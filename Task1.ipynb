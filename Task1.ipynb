{
 "cells": [
  {
   "cell_type": "code",
   "execution_count": 1,
   "id": "33dc200e",
   "metadata": {},
   "outputs": [],
   "source": [
    "import pandas as pd\n",
    "from sklearn.model_selection import train_test_split\n",
    "from sklearn.model_selection import KFold\n",
    "from sklearn.naive_bayes import BernoulliNB\n",
    "from sklearn import metrics\n",
    "from sklearn.metrics import accuracy_score\n",
    "from sklearn.metrics import precision_score\n",
    "from sklearn.metrics import recall_score\n",
    "from sklearn.metrics import f1_score\n",
    "from sklearn.metrics import confusion_matrix"
   ]
  },
  {
   "cell_type": "code",
   "execution_count": 2,
   "id": "e04494eb",
   "metadata": {},
   "outputs": [
    {
     "name": "stdout",
     "output_type": "stream",
     "text": [
      "0.5368421052631579\n",
      "0.6470588235294118\n",
      "0.36492890995260663\n",
      "0.4666666666666667\n",
      "[[127  42]\n",
      " [134  77]]\n"
     ]
    }
   ],
   "source": [
    "#train test split\n",
    "df=pd.read_csv('diabetics.csv')\n",
    "x=df.drop('outcome',1)\n",
    "y=df['outcome']\n",
    "X_train,X_test,y_train,y_test=train_test_split(x,y,test_size=0.33,random_state=42)\n",
    "BernNB = BernoulliNB(binarize=True)\n",
    "BernNB.fit(X_train,y_train)\n",
    "y_predict=BernNB.predict(X_test)\n",
    "print(accuracy_score(y_test,y_predict))\n",
    "print(precision_score(y_test,y_predict))\n",
    "print(recall_score(y_test,y_predict))\n",
    "print(f1_score(y_test,y_predict))\n",
    "matrix=confusion_matrix(y_test,y_predict)\n",
    "print(matrix)"
   ]
  },
  {
   "cell_type": "code",
   "execution_count": 3,
   "id": "afb9de97",
   "metadata": {},
   "outputs": [
    {
     "name": "stdout",
     "output_type": "stream",
     "text": [
      "[[74 29]\n",
      " [85 43]]\n",
      "[[74 33]\n",
      " [75 48]]\n",
      "[[61 48]\n",
      " [63 58]]\n",
      "[[71 36]\n",
      " [68 55]]\n",
      "[[68 46]\n",
      " [67 49]]\n",
      "0.5221682665160926\n",
      "0.5714339408430769\n",
      "0.415017702012479\n",
      "0.4780150238090502\n"
     ]
    }
   ],
   "source": [
    "#k_fold\n",
    "k=5\n",
    "listofaccuracy=[]\n",
    "listofprecision=[]\n",
    "listofrecall=[]\n",
    "listoff=[]\n",
    "kf=KFold(n_splits=k,random_state=None,shuffle=False)\n",
    "for train_index,test_index in kf.split(x):\n",
    "    X_train,X_test=x.iloc[train_index,:],x.iloc[test_index,:]\n",
    "    y_train,y_test=y[train_index],y[test_index]\n",
    "    BernNB = BernoulliNB(binarize=True)\n",
    "    BernNB.fit(X_train,y_train)\n",
    "    y_predict=BernNB.predict(X_test)\n",
    "    listofaccuracy.append(accuracy_score(y_test,y_predict))\n",
    "    listofprecision.append(precision_score(y_test,y_predict))\n",
    "    listofrecall.append(recall_score(y_test,y_predict))\n",
    "    listoff.append(f1_score(y_test,y_predict))\n",
    "    matrix=confusion_matrix(y_test,y_predict)\n",
    "    print(matrix)\n",
    "print(sum(listofaccuracy)/k)\n",
    "print(sum(listofprecision)/k)\n",
    "print(sum( listofrecall)/k)\n",
    "print(sum(listoff)/k)"
   ]
  },
  {
   "cell_type": "code",
   "execution_count": null,
   "id": "32966858",
   "metadata": {},
   "outputs": [],
   "source": []
  }
 ],
 "metadata": {
  "kernelspec": {
   "display_name": "Python 3",
   "language": "python",
   "name": "python3"
  },
  "language_info": {
   "codemirror_mode": {
    "name": "ipython",
    "version": 3
   },
   "file_extension": ".py",
   "mimetype": "text/x-python",
   "name": "python",
   "nbconvert_exporter": "python",
   "pygments_lexer": "ipython3",
   "version": "3.8.8"
  }
 },
 "nbformat": 4,
 "nbformat_minor": 5
}
