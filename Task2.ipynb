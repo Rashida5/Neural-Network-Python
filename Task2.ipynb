{
 "cells": [
  {
   "cell_type": "code",
   "execution_count": null,
   "id": "e97f285d",
   "metadata": {},
   "outputs": [],
   "source": [
    "def perceptron(dic,x0,w0,w1,w2,t):\n",
    "    best_w1=w1\n",
    "    best_w0=w0\n",
    "    best_w2=w2\n",
    "    total=0\n",
    "    maxi=0\n",
    "    for i in range(1,t+1,1):\n",
    "        for j in range(1,len(dic),1):\n",
    "            o=(w1*dic[j][0]+w2*dic[j][1]+x0*w0)\n",
    "            if o<0:\n",
    "                o=0\n",
    "            else:\n",
    "                o=1\n",
    "            if o!=dic[j][2]:\n",
    "                w0=w0+(dic[j][2]-o)*0.1*x0\n",
    "                w1=w1+(dic[j][2]-o)*0.1*dic[j][0]    #update weight\n",
    "                w2=w2+(dic[j][2]-o)*0.1*dic[j][1]\n",
    "                if maxi<total:\n",
    "                    best_w0=w0\n",
    "                    best_w1=w1\n",
    "                    best_w2=w2\n",
    "                    maxi=total\n",
    "                total=0\n",
    "            else:\n",
    "                total=total+1\n",
    "    result=[maxi,best_w0,best_w1,best_w2]\n",
    "    return result\n",
    " \n",
    "dic={}\n",
    "n=int(input(\"Enter the number of epoch\"))\n",
    "for i in range(1,n+1,1):\n",
    "    print(\"Enter the epoch number \",i)\n",
    "    n1=int(input(\"Enter the input1 \"))\n",
    "    n2=int(input(\"Enter the input2 \"))\n",
    "    t=int(input(\"Enter the target \"))\n",
    "    dic[i]=[n1,n2,t]\n",
    "w0=input('Enter the intial weight 0')\n",
    "w0=float(w0)\n",
    "w1=input('Enter the intial weight 1 ')\n",
    "w1=float(w1)\n",
    "w2=input('Enter the intial weight 2 ')\n",
    "w2=float(w2)\n",
    "x0=int(input('Enter the value of x0'))\n",
    "t=int(input('Enter the number of iteration '))\n",
    "print(perceptron(dic,x0,w0,w1,w2,t))"
   ]
  },
  {
   "cell_type": "code",
   "execution_count": null,
   "id": "69edae28",
   "metadata": {},
   "outputs": [],
   "source": []
  }
 ],
 "metadata": {
  "kernelspec": {
   "display_name": "Python 3",
   "language": "python",
   "name": "python3"
  },
  "language_info": {
   "codemirror_mode": {
    "name": "ipython",
    "version": 3
   },
   "file_extension": ".py",
   "mimetype": "text/x-python",
   "name": "python",
   "nbconvert_exporter": "python",
   "pygments_lexer": "ipython3",
   "version": "3.8.8"
  }
 },
 "nbformat": 4,
 "nbformat_minor": 5
}
